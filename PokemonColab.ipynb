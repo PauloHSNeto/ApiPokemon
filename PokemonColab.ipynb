{
  "nbformat": 4,
  "nbformat_minor": 0,
  "metadata": {
    "colab": {
      "name": "Untitled2.ipynb",
      "provenance": [],
      "authorship_tag": "ABX9TyPtsxCeH0W5is+dCCNQDl0B",
      "include_colab_link": true
    },
    "kernelspec": {
      "name": "python3",
      "display_name": "Python 3"
    },
    "language_info": {
      "name": "python"
    }
  },
  "cells": [
    {
      "cell_type": "markdown",
      "metadata": {
        "id": "view-in-github",
        "colab_type": "text"
      },
      "source": [
        "<a href=\"https://colab.research.google.com/github/PauloHSNeto/ApiPokemon/blob/master/PokemonColab.ipynb\" target=\"_parent\"><img src=\"https://colab.research.google.com/assets/colab-badge.svg\" alt=\"Open In Colab\"/></a>"
      ]
    },
    {
      "cell_type": "code",
      "execution_count": 4,
      "metadata": {
        "id": "7Y1Lbom3UpMM"
      },
      "outputs": [],
      "source": [
        "import pandas as pd\n",
        "import numpy as np\n",
        "\n",
        "import requests   "
      ]
    },
    {
      "cell_type": "code",
      "source": [
        "\n",
        "url  = \"https://pokeapi.co/api/v2/pokemon/\"\n",
        "\n",
        "for i in range(1,50):\n",
        "  url = \"https://pokeapi.co/api/v2/pokemon/\"+str(i)\n",
        "  response= requests.get(url).json()\n",
        "  print(str(response['id'])+\" \" + response['name'] + \" \" +response['abilities'][0]['ability']['name'])"
      ],
      "metadata": {
        "colab": {
          "base_uri": "https://localhost:8080/"
        },
        "id": "Ep6BxBLDVif7",
        "outputId": "e8198a0f-bb5e-4500-ce3b-a14db8194b3e"
      },
      "execution_count": 65,
      "outputs": [
        {
          "output_type": "stream",
          "name": "stdout",
          "text": [
            "1 bulbasaur overgrow\n",
            "2 ivysaur overgrow\n",
            "3 venusaur overgrow\n",
            "4 charmander blaze\n",
            "5 charmeleon blaze\n",
            "6 charizard blaze\n",
            "7 squirtle torrent\n",
            "8 wartortle torrent\n",
            "9 blastoise torrent\n",
            "10 caterpie shield-dust\n",
            "11 metapod shed-skin\n",
            "12 butterfree compound-eyes\n",
            "13 weedle shield-dust\n",
            "14 kakuna shed-skin\n",
            "15 beedrill swarm\n",
            "16 pidgey keen-eye\n",
            "17 pidgeotto keen-eye\n",
            "18 pidgeot keen-eye\n",
            "19 rattata run-away\n",
            "20 raticate run-away\n",
            "21 spearow keen-eye\n",
            "22 fearow keen-eye\n",
            "23 ekans intimidate\n",
            "24 arbok intimidate\n",
            "25 pikachu static\n",
            "26 raichu static\n",
            "27 sandshrew sand-veil\n",
            "28 sandslash sand-veil\n",
            "29 nidoran-f poison-point\n",
            "30 nidorina poison-point\n",
            "31 nidoqueen poison-point\n",
            "32 nidoran-m poison-point\n",
            "33 nidorino poison-point\n",
            "34 nidoking poison-point\n",
            "35 clefairy cute-charm\n",
            "36 clefable cute-charm\n",
            "37 vulpix flash-fire\n",
            "38 ninetales flash-fire\n",
            "39 jigglypuff cute-charm\n",
            "40 wigglytuff cute-charm\n",
            "41 zubat inner-focus\n",
            "42 golbat inner-focus\n",
            "43 oddish chlorophyll\n",
            "44 gloom chlorophyll\n",
            "45 vileplume chlorophyll\n",
            "46 paras effect-spore\n",
            "47 parasect effect-spore\n",
            "48 venonat compound-eyes\n",
            "49 venomoth shield-dust\n"
          ]
        }
      ]
    },
    {
      "cell_type": "code",
      "source": [
        "!git init\n",
        "!git add -A\n",
        "!git commit -m “first commit”\n",
        "!git push -u origin <branch>\n"
      ],
      "metadata": {
        "colab": {
          "base_uri": "https://localhost:8080/"
        },
        "id": "dhqfqgYRjhpw",
        "outputId": "4417e7a9-dbd6-417e-bbde-d4ac6262b65c"
      },
      "execution_count": 69,
      "outputs": [
        {
          "output_type": "stream",
          "name": "stdout",
          "text": [
            "Reinitialized existing Git repository in /content/.git/\n",
            "error: pathspec 'commit”' did not match any file(s) known to git.\n",
            "/bin/bash: -c: line 0: syntax error near unexpected token `newline'\n",
            "/bin/bash: -c: line 0: `git push -u origin <branch>'\n"
          ]
        }
      ]
    }
  ]
}